{
 "cells": [
  {
   "cell_type": "code",
   "execution_count": 46,
   "metadata": {},
   "outputs": [
    {
     "name": "stdout",
     "output_type": "stream",
     "text": [
      "('training set ', (80, 2))\n",
      "('Number of features in the dataset: ', 2)\n",
      "Mean Accuracy: 72.597%\n"
     ]
    }
   ],
   "source": [
    "#!/usr/bin/env python3\n",
    "# -*- coding: utf-8 -*-\n",
    "\"\"\"\n",
    "Created on Tue Sep 12 15:38:34 2017\n",
    "\n",
    "@author: DNN - CMPE 297\n",
    "\"\"\"\n",
    "\n",
    "import numpy as np\n",
    "import sklearn.datasets\n",
    "import matplotlib.pyplot as plt\n",
    "from sklearn.model_selection import train_test_split\n",
    "\n",
    "\n",
    "X, y = sklearn.datasets.make_moons(100, noise=0.20)\n",
    "y = y.reshape(len(y),1)\n",
    "#print (y)\n",
    "#plot the dataset - this is a complete preprocessed(cleaned, normalized, duplicates removed)\n",
    "plt.figure(1)\n",
    "#plt.scatter(X[:,0], X[:,1], s=40, c=y, cmap=plt.cm.Spectral)\n",
    "\n",
    "#Splitting into training and testing set\n",
    "data_train, data_test, labels_train, labels_test = train_test_split(X, y, test_size=0.20, random_state=42)\n",
    "\n",
    "from math import exp\n",
    "\n",
    "print(\"training set \", data_train.shape)\n",
    "#Sigmoid Activation Function\n",
    "def sigmoid_activation_function (x):\n",
    "    return 1/(1 + np.exp(-x))\n",
    "#Derivative of Sigmoid Function - to calculate the slope\n",
    "def derivatives_sigmoid(x):\n",
    "    return x * (1 - x)\n",
    "\n",
    "# Transfer neuron activation\n",
    "def transfer(activation):\n",
    "\treturn 1.0 / (1.0 + exp(-activation))\n",
    "\n",
    "\n",
    "#Setting the number of epochs aka training iterations\n",
    "epoch=5000\n",
    "#Setting learning rate i.e. how much the weight should be changed to correct the error each time\n",
    "lr=0.01\n",
    "#number of features in data set\n",
    "inputlayer_neurons = X.shape[1]\n",
    "print(\"Number of features in the dataset: \", inputlayer_neurons)\n",
    " #number of hidden layers neurons\n",
    "hiddenL_neurons = 3\n",
    "#number of neurons at output layer\n",
    "output_neurons = 1\n",
    "\n",
    "#weight and bias initialization using random function in numpy\n",
    "wh=np.random.uniform(size=(inputlayer_neurons,hiddenL_neurons))\n",
    "#print(\"random weight:\",wh)\n",
    "#print(\"input x:\",data_train)\n",
    "bh=np.random.uniform(size=(1,hiddenL_neurons))\n",
    "wout=np.random.uniform(size=(hiddenL_neurons,output_neurons))\n",
    "bout=np.random.uniform(size=(1,output_neurons))\n",
    "#print (\"bias at hidden layer: \", bh)\n",
    "#print (\"wout: \", wout)\n",
    "\n",
    "i=0\n",
    "\n",
    "# Calculate accuracy percentage\n",
    "def accuracy_metric(actual, predicted):\n",
    "\tcorrect = 0\n",
    "\tfor i in range(len(actual)):\n",
    "\t\tpredict=0\n",
    "\t\tif predicted[i]>0.5:\n",
    "\t\t\tpredict=1\n",
    "\t\tif actual[i] == predict:\n",
    "\t\t\tcorrect += 1\n",
    "\treturn correct / float(len(actual)) * 100.0\n",
    "\n",
    "scores=[]\n",
    "for i in range(epoch):\n",
    "    #-----------#-----------#-----------#-----------#-----------#-----------\n",
    "    #Forward Propagation\n",
    "    #-----------#-----------#-----------#-----------#-----------#-----------\n",
    "\n",
    "\n",
    "\n",
    "\tl1 = sigmoid_activation_function(np.dot(data_train, wh) + bh)\n",
    "\tl2 = sigmoid_activation_function(np.dot(l1, wout) + bout)\n",
    "    \n",
    "    #-----------#-----------#-----------#-----------#-----------#-----------\n",
    "    #output \n",
    "\terror = labels_train - l2\n",
    "\n",
    "\taccuracy = accuracy_metric(labels_train, error)\n",
    "\tscores.append(accuracy)\n",
    "\n",
    "    #-----------#-----------#-----------#-----------#-----------#-----------\n",
    "\n",
    "    #Backpropagation\n",
    "\toutput_lslope = derivatives_sigmoid(l2)\n",
    "\thidden_lslope = derivatives_sigmoid(l1)\n",
    "\td_output = error * output_lslope\n",
    "\terror_hlayer = d_output.dot(wout.transpose())\n",
    "\n",
    "\t# Compute​ ​change​ ​factor​ ​(delta)\n",
    "\td_hlayer = error_hlayer * hidden_lslope\n",
    "\t# Update​ ​the​ ​weights​ ​in​ ​the​ ​network​ ​from​ ​the​ ​errors​ ​calculated\n",
    "\twout = wout + l1.transpose().dot(d_output) * lr\n",
    "\twh = wh + np.array(data_train).reshape(-1, 80).dot(d_hlayer) * lr\n",
    "\n",
    "\t# In​ ​the​ ​same​ ​way​ ​update​ ​the​ ​bias\n",
    "\tbout = bout + sum(d_output) * lr\n",
    "\tbh = bh + sum(d_hlayer) * lr\n",
    "\n",
    "#print('Scores: %s' % scores)\n",
    "print('Mean Accuracy: %.3f%%' % (sum(scores)/float(len(scores))))\n"
   ]
  },
  {
   "cell_type": "code",
   "execution_count": 47,
   "metadata": {},
   "outputs": [
    {
     "data": {
      "image/png": "[encoded data removed]",
      "text/plain": [
       "<matplotlib.figure.Figure at 0x111b894d0>"
      ]
     },
     "metadata": {},
     "output_type": "display_data"
    }
   ],
   "source": [
    "#-----------#-----------#-----------#-----------\n",
    "\n",
    "plt.scatter(l2,labels_train);\n",
    "plt.show()"
   ]
  },
  {
   "cell_type": "code",
   "execution_count": 48,
   "metadata": {},
   "outputs": [
    {
     "name": "stdout",
     "output_type": "stream",
     "text": [
      "('accuracy', 60.0)\n"
     ]
    },
    {
     "data": {
      "image/png": "[encoded data removed]",
      "text/plain": [
       "<matplotlib.figure.Figure at 0x11204fdd0>"
      ]
     },
     "metadata": {},
     "output_type": "display_data"
    }
   ],
   "source": [
    "intermediatep= sigmoid_activation_function(np.dot(data_test, wh) + bh)\n",
    "predictions = sigmoid_activation_function(np.dot(intermediatep, wout) + bout)\n",
    "error_p = labels_train - l2\n",
    "accuracy = accuracy_metric(labels_test, error_p)\n",
    "plt.scatter(predictions, labels_test);\n",
    "\n",
    "print(\"accuracy\",accuracy)\n",
    "plt.show()"
   ]
  },
  {
   "cell_type": "code",
   "execution_count": null,
   "metadata": {
    "collapsed": true
   },
   "outputs": [],
   "source": []
  },
  {
   "cell_type": "code",
   "execution_count": null,
   "metadata": {
    "collapsed": true
   },
   "outputs": [],
   "source": []
  },
  {
   "cell_type": "code",
   "execution_count": null,
   "metadata": {
    "collapsed": true
   },
   "outputs": [],
   "source": []
  }
 ],
 "metadata": {
  "kernelspec": {
   "display_name": "Python 2",
   "language": "python",
   "name": "python2"
  },
  "language_info": {
   "codemirror_mode": {
    "name": "ipython",
    "version": 2
   },
   "file_extension": ".py",
   "mimetype": "text/x-python",
   "name": "python",
   "nbconvert_exporter": "python",
   "pygments_lexer": "ipython2",
   "version": "2.7.13"
  }
 },
 "nbformat": 4,
 "nbformat_minor": 2
}
