{
 "cells": [
  {
   "cell_type": "markdown",
   "metadata": {},
   "source": [
    "# Constants"
   ]
  },
  {
   "cell_type": "code",
   "execution_count": 29,
   "metadata": {},
   "outputs": [
    {
     "name": "stdout",
     "output_type": "stream",
     "text": [
      "[[1 2]\n",
      " [3 4]\n",
      " [5 6]]\n",
      "[[0 0 0]\n",
      " [0 0 0]]\n",
      "[[ 0.  0.  0.  0.  0.]\n",
      " [ 0.  0.  0.  0.  0.]\n",
      " [ 0.  0.  0.  0.  0.]\n",
      " [ 0.  0.  0.  0.  0.]]\n",
      "[[ 0.  0.  0.  0.  0.]\n",
      " [ 0.  0.  0.  0.  0.]\n",
      " [ 0.  0.  0.  0.  0.]\n",
      " [ 0.  0.  0.  0.  0.]]\n",
      "[[9 9]]\n"
     ]
    }
   ],
   "source": [
    "import tensorflow as tf\n",
    "a = tf.constant([[1, 2], [3, 4], [5, 6]])\n",
    "b = tf.constant(0, dtype=None, shape = (2,3), name = 'Const', verify_shape= False)\n",
    "c = tf.zeros((4,5), dtype=tf.float32, name=\"c\")\n",
    "d = tf.zeros_like(c)\n",
    "e = tf.fill((1,2), 9, name=\"e\")\n",
    "\n",
    "with tf.Session() as sess:\n",
    "    print sess.run(a) \n",
    "    print sess.run(b) \n",
    "    print sess.run(c)  \n",
    "    print sess.run(d) \n",
    "    print sess.run(e) \n"
   ]
  },
  {
   "cell_type": "markdown",
   "metadata": {},
   "source": [
    "# Variables"
   ]
  },
  {
   "cell_type": "code",
   "execution_count": 59,
   "metadata": {},
   "outputs": [
    {
     "name": "stdout",
     "output_type": "stream",
     "text": [
      "3\n",
      "[1 2]\n",
      "[[1 2]\n",
      " [3 7]\n",
      " [8 9]]\n",
      "Before assign\n",
      "[ 0.]\n",
      "[ 2.]\n",
      "After Assign\n",
      "[ 2.]\n",
      "Before add\n",
      "[ 7.]\n",
      "After add\n",
      "[ 7.]\n"
     ]
    }
   ],
   "source": [
    "import tensorflow as tf\n",
    "w = tf.Variable(3, name=\"w\")\n",
    "twod= tf.Variable([1,2], name=\"twod\")\n",
    "threed = tf.Variable([[1,2],[3,7],[8,9]], name=\"threed\")\n",
    "four = tf.Variable(tf.zeros(1,1))\n",
    "assign = four.assign([2])\n",
    "add = four.assign_add([5])\n",
    "\n",
    "init_op = tf.global_variables_initializer()\n",
    "\n",
    "with tf.Session() as sessv:\n",
    "    sessv.run(init_op)\n",
    "    print sessv.run(w) \n",
    "    print sessv.run(twod) \n",
    "    print sessv.run(threed) \n",
    "    print(\"Before assign\")\n",
    "    print sessv.run(four)\n",
    "    print sessv.run(assign)\n",
    "    print(\"After Assign\")\n",
    "    print sessv.run(four)\n",
    "    print(\"Before add\")\n",
    "    print sessv.run(add)\n",
    "    print(\"After add\")\n",
    "    print sessv.run(four)"
   ]
  },
  {
   "cell_type": "markdown",
   "metadata": {},
   "source": [
    "## Placeholders"
   ]
  },
  {
   "cell_type": "code",
   "execution_count": 74,
   "metadata": {},
   "outputs": [
    {
     "name": "stdout",
     "output_type": "stream",
     "text": [
      "first.\n",
      "[ 3.]\n",
      "two.\n",
      "[  2.  15.  24.]\n",
      "three.\n",
      "[4]\n",
      "[8]\n",
      "[12]\n",
      "[16]\n",
      "[20]\n",
      "[24]\n",
      "[28]\n",
      "four.\n",
      "[[  21.   63.   84.  105.  168.]\n",
      " [  21.   63.   84.  105.  168.]\n",
      " [  21.   63.   84.  105.  168.]\n",
      " [  21.   63.   84.  105.  168.]\n",
      " [  21.   63.   84.  105.  168.]]\n",
      "five.\n",
      "2.0\n"
     ]
    }
   ],
   "source": [
    "##1\n",
    "a = tf.placeholder(tf.float32, shape=[1])\n",
    "b = tf.placeholder(tf.float32, shape=[1])\n",
    "c = a+b\n",
    "init_op = tf.global_variables_initializer()\n",
    "\n",
    "\n",
    "##2\n",
    "d = tf.placeholder(tf.float32, shape=[3])\n",
    "e = tf.placeholder(tf.float32, shape=[3])\n",
    "f = d*e\n",
    "\n",
    "#3\n",
    "\n",
    "x =[[1],[2],[3],[4],[5],[6],[7]]\n",
    "l = tf.placeholder(tf.int32, shape=[1])\n",
    "h = 4 * l\n",
    "\n",
    "\n",
    "#4\n",
    "n = tf.placeholder(tf.float32, shape=(5, 5))\n",
    "y = tf.matmul(n, n)\n",
    "\n",
    "#5\n",
    "r = tf.placeholder(tf.float32, shape=None)\n",
    "s = tf.placeholder(tf.float32, shape=None)\n",
    "t = r/s\n",
    "\n",
    "\n",
    "with tf.Session() as sess:\n",
    "    sess.run(init_op)\n",
    "    print(\"first.\")\n",
    "\n",
    "    print sess.run(c,{a:[1],b:[2]})\n",
    "    print(\"two.\")\n",
    "\n",
    "    print sess.run(f,{d:[1,3,4],e:[2,5,6]})\n",
    "    print(\"three.\")\n",
    " \n",
    "    for e in x:\n",
    "        print sess.run(h,{l:e})\n",
    "    print(\"four.\")  \n",
    "    print sess.run(y,{n:[[1,3,4,5,8],[1,3,4,5,8],[1,3,4,5,8],[1,3,4,5,8],[1,3,4,5,8]]})\n",
    "    \n",
    "    print(\"five.\")\n",
    "    print sess.run(t,{r:4,s:2})    "
   ]
  },
  {
   "cell_type": "markdown",
   "metadata": {},
   "source": [
    "## Operations"
   ]
  },
  {
   "cell_type": "code",
   "execution_count": null,
   "metadata": {},
   "outputs": [],
   "source": []
  },
  {
   "cell_type": "code",
   "execution_count": null,
   "metadata": {
    "collapsed": true
   },
   "outputs": [],
   "source": []
  },
  {
   "cell_type": "code",
   "execution_count": null,
   "metadata": {},
   "outputs": [],
   "source": []
  },
  {
   "cell_type": "code",
   "execution_count": null,
   "metadata": {
    "collapsed": true
   },
   "outputs": [],
   "source": []
  }
 ],
 "metadata": {
  "kernelspec": {
   "display_name": "Python 2",
   "language": "python",
   "name": "python2"
  },
  "language_info": {
   "codemirror_mode": {
    "name": "ipython",
    "version": 2
   },
   "file_extension": ".py",
   "mimetype": "text/x-python",
   "name": "python",
   "nbconvert_exporter": "python",
   "pygments_lexer": "ipython2",
   "version": "2.7.13"
  }
 },
 "nbformat": 4,
 "nbformat_minor": 2
}
