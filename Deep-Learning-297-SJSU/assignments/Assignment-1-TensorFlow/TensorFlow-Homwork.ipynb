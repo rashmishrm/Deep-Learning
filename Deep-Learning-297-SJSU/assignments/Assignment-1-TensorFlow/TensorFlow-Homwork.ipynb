{
 "cells": [
  {
   "cell_type": "markdown",
   "metadata": {},
   "source": [
    "#### 1. Create two 0-d tensors a and b randomly selected from the range [-1, 1).\n",
    "#### a. Return a+b if a<b\n",
    "#### b. Return 0 if a>b. You can use tf.case() if it helps"
   ]
  },
  {
   "cell_type": "code",
   "execution_count": 2,
   "metadata": {
    "collapsed": true
   },
   "outputs": [],
   "source": [
    "import tensorflow as tf"
   ]
  },
  {
   "cell_type": "code",
   "execution_count": 23,
   "metadata": {},
   "outputs": [
    {
     "name": "stdout",
     "output_type": "stream",
     "text": [
      "-0.0469427\n",
      "-0.488178\n",
      "0.0\n"
     ]
    }
   ],
   "source": [
    "a = tf.Variable(tf.random_uniform(shape=[],minval=-1,maxval=1,dtype=tf.float32), name=\"a\")\n",
    "b = tf.Variable(tf.random_uniform(shape=[],minval=-1,maxval=1,dtype=tf.float32), name=\"b\")\n",
    "\n",
    "init_op = tf.global_variables_initializer()\n",
    "\n",
    "r = tf.cond(a < b, lambda:tf.add(a,b), lambda: 0.0)\n",
    "\n",
    "with tf.Session() as sess:\n",
    "    sess.run(init_op)\n",
    "    print sess.run(a)\n",
    "    print sess.run(b)\n",
    "    print sess.run(r) "
   ]
  },
  {
   "cell_type": "markdown",
   "metadata": {},
   "source": [
    "#### 2. Create a 2d tensor of size 16x16 from any distribution\n",
    "a. Calculate the determinant using tensorflow."
   ]
  },
  {
   "cell_type": "code",
   "execution_count": 24,
   "metadata": {},
   "outputs": [
    {
     "name": "stdout",
     "output_type": "stream",
     "text": [
      "-9.28644e+29\n"
     ]
    }
   ],
   "source": [
    "a = tf.Variable(tf.random_uniform(shape=(16,16),minval=1,maxval=100,dtype=tf.float32))\n",
    "b = tf.matrix_determinant(a)\n",
    "\n",
    "init_op = tf.global_variables_initializer()\n",
    "\n",
    "\n",
    "\n",
    "with tf.Session() as sess:\n",
    "    sess.run(init_op)\n",
    "    print sess.run(b)\n",
    "\n"
   ]
  },
  {
   "cell_type": "markdown",
   "metadata": {
    "collapsed": true
   },
   "source": [
    "#### 3. Create the tensor t of value\n",
    "[30.05088806, 17.61298943, 41.19073486, 19.35532951,\n",
    "31.97266006, 16.67541885, 28.08450317, 21.74983215,\n",
    "32.94445419, 30.45999146, 39.06485367, 32.01657104,\n",
    "26.88236427, 27.56035233, 10.20379066, 22.51215172,\n",
    "30.71149445, 24.59134293, 56.05556488, 30.66994858]\n",
    "a. Get the indices of elements in t whose values are greater than 25.\n",
    "b. Extract the element whose values are greater"
   ]
  },
  {
   "cell_type": "code",
   "execution_count": 5,
   "metadata": {},
   "outputs": [
    {
     "name": "stdout",
     "output_type": "stream",
     "text": [
      "[ 30.05088806  17.61298943  41.19073486  19.35532951  31.97266006\n",
      "  16.67541885  28.08450317  21.74983215  32.94445419  30.45999146\n",
      "  39.06485367  32.01657104  26.88236427  27.56035233  10.20379066\n",
      "  22.51215172  30.71149445  24.59134293  56.05556488  30.66994858]\n",
      "[ True False  True False  True False  True False  True  True  True  True\n",
      "  True  True False False  True False  True  True]\n",
      "printing all index which are greater than 25.\n",
      "0\n",
      "2\n",
      "4\n",
      "6\n",
      "8\n",
      "9\n",
      "10\n",
      "11\n",
      "12\n",
      "13\n",
      "16\n",
      "18\n",
      "19\n",
      "printing all values which are greater than 25.\n",
      "30.0509\n",
      "41.1907\n",
      "31.9727\n",
      "28.0845\n",
      "32.9445\n",
      "30.46\n",
      "39.0649\n",
      "32.0166\n",
      "26.8824\n",
      "27.5604\n",
      "30.7115\n",
      "56.0556\n",
      "30.6699\n",
      "printing all values which are greater than 30.\n",
      "30.0509\n",
      "41.1907\n",
      "31.9727\n",
      "28.0845\n",
      "32.9445\n",
      "30.46\n",
      "39.0649\n",
      "32.0166\n",
      "26.8824\n",
      "27.5604\n",
      "30.7115\n",
      "56.0556\n",
      "30.6699\n"
     ]
    }
   ],
   "source": [
    "twod= tf.Variable([30.05088806, 17.61298943, 41.19073486, 19.35532951, 31.97266006, 16.67541885, 28.08450317, 21.74983215, 32.94445419, 30.45999146, 39.06485367, 32.01657104, 26.88236427, 27.56035233, 10.20379066, 22.51215172, 30.71149445, 24.59134293, 56.05556488, 30.66994858], name=\"twod\")\n",
    "r = tf.greater(twod,25.0)\n",
    "init_op = tf.global_variables_initializer()\n",
    "\n",
    "#a\n",
    "with tf.Session() as sess:\n",
    "    sess.run(init_op)\n",
    "    print sess.run(twod)\n",
    "    print sess.run(r)\n",
    "    i=0;\n",
    "    print \"printing all index which are greater than 25.\"\n",
    "    for i in range(0,20):\n",
    "        if(r[i].eval()):\n",
    "            print i\n",
    "        i=i+1\n",
    "    print \"printing all values which are greater than 25.\"\n",
    "    for i in range(0,20):\n",
    "        if(r[i].eval()):\n",
    "            print twod[i].eval()\n",
    "        i=i+1\n",
    "        \n",
    "#b\n",
    "with tf.Session() as sess:\n",
    "    sess.run(init_op)\n",
    "    i=0;\n",
    "    print \"printing all values which are greater than 30.\"\n",
    "    for i in range(0,20):\n",
    "        if(r[i].eval()):\n",
    "            print twod[i].eval()\n",
    "        i=i+1\n"
   ]
  },
  {
   "cell_type": "markdown",
   "metadata": {
    "collapsed": true
   },
   "source": [
    "#### 4. Create the tensor t of the value [[-1, 0, 2], [1, 0, 2]] and t1 as tensor of zeros with the same shape as t. Return a boolean tensor that yields Trues if t equals t1 element-wise."
   ]
  },
  {
   "cell_type": "code",
   "execution_count": 6,
   "metadata": {},
   "outputs": [
    {
     "name": "stdout",
     "output_type": "stream",
     "text": [
      "[[False  True False]\n",
      " [False  True False]]\n"
     ]
    }
   ],
   "source": [
    "import tensorflow as tf\n",
    "\n",
    "a=tf.constant([[-1,0,2],[1,0,2]])\n",
    "b=tf.zeros([2,3],tf.int32)\n",
    "result=tf.equal(a,b)\n",
    "\n",
    "with tf.Session() as sess:\n",
    "    print sess.run(result)\n",
    "    \n",
    "              \n",
    "       "
   ]
  },
  {
   "cell_type": "markdown",
   "metadata": {},
   "source": [
    "#### 5) Create a csv file using the below tabular data, name it place_holder.csv.\n",
    "\n",
    "b. Read in data from the csv file into a dataframe. You can use any of the python\n",
    "libraries (Ex: Pandas)\n",
    "c. Create placeholders for input X ,Y and a constant C of same shape and size as X.\n",
    "Define an operation sum = X + Y + C\n",
    "d. Using the tensorflow session,\n",
    "i. Initialize the variables\n",
    "ii. Feed the data in to place holders\n",
    "iii. Execute the computation sum"
   ]
  },
  {
   "cell_type": "code",
   "execution_count": 7,
   "metadata": {},
   "outputs": [
    {
     "name": "stdout",
     "output_type": "stream",
     "text": [
      "     X    Y\n",
      "0  1.0  2.5\n",
      "1  4.0  3.5\n",
      "2  6.6  2.5\n",
      "3  9.0  9.5\n",
      "4  1.5  1.8\n",
      "5  3.2  9.0\n",
      "6  1.8  3.0\n",
      "7  6.2  9.4\n",
      "8  5.0  7.8\n",
      "9  8.5  3.2\n",
      "[[  4.5          8.5         10.10000038  19.5          4.30000019\n",
      "   13.19999981   5.80000019  16.59999847  13.80000019  12.69999981]\n",
      " [  5.5          9.5         11.10000038  20.5          5.30000019\n",
      "   14.19999981   6.80000019  17.59999847  14.80000019  13.69999981]\n",
      " [  6.5         10.5         12.10000038  21.5          6.30000019\n",
      "   15.19999981   7.80000019  18.59999847  15.80000019  14.69999981]\n",
      " [  7.5         11.5         13.10000038  22.5          7.30000019\n",
      "   16.20000076   8.80000019  19.59999847  16.79999924  15.69999981]\n",
      " [  8.5         12.5         14.10000038  23.5          8.30000019\n",
      "   17.20000076   9.80000019  20.59999847  17.79999924  16.70000076]\n",
      " [  9.5         13.5         15.10000038  24.5          9.30000019\n",
      "   18.20000076  10.80000019  21.59999847  18.79999924  17.70000076]\n",
      " [ 10.5         14.5         16.10000038  25.5         10.30000019\n",
      "   19.20000076  11.80000019  22.59999847  19.79999924  18.70000076]\n",
      " [ 11.5         15.5         17.10000038  26.5         11.30000019\n",
      "   20.20000076  12.80000019  23.59999847  20.79999924  19.70000076]\n",
      " [ 12.5         16.5         18.10000038  27.5         12.30000019\n",
      "   21.20000076  13.80000019  24.59999847  21.79999924  20.70000076]\n",
      " [ 13.5         17.5         19.10000038  28.5         13.30000019\n",
      "   22.20000076  14.80000019  25.59999847  22.79999924  21.70000076]]\n"
     ]
    }
   ],
   "source": [
    "import csv\n",
    "import tensorflow as tf\n",
    "from pandas import DataFrame, read_csv\n",
    "import matplotlib.pyplot as plt\n",
    "import pandas as pd \n",
    "\n",
    "\n",
    "x=tf.placeholder(tf.float32)\n",
    "y=tf.placeholder(tf.float32)\n",
    "\n",
    "i=0\n",
    " \n",
    "file = r'sample.csv'\n",
    "df = pd.read_csv(file)\n",
    "print df\n",
    "a=df['X']\n",
    "b=df['Y']\n",
    "\n",
    "\n",
    "c = [[1],[2],[3],[4],[5],[6],[7],[8],[9],[10]]\n",
    "sum_func = x +y+c;\n",
    "init_op = tf.global_variables_initializer()\n",
    "\n",
    "\n",
    "\n",
    "i=0;\n",
    "with tf.Session() as sess:\n",
    "    sess.run(init_op)\n",
    "    print sess.run(sum_func,{x:a,y:b})\n",
    " "
   ]
  },
  {
   "cell_type": "code",
   "execution_count": null,
   "metadata": {
    "collapsed": true
   },
   "outputs": [],
   "source": []
  },
  {
   "cell_type": "code",
   "execution_count": null,
   "metadata": {
    "collapsed": true
   },
   "outputs": [],
   "source": []
  }
 ],
 "metadata": {
  "kernelspec": {
   "display_name": "Python 2",
   "language": "python",
   "name": "python2"
  },
  "language_info": {
   "codemirror_mode": {
    "name": "ipython",
    "version": 2
   },
   "file_extension": ".py",
   "mimetype": "text/x-python",
   "name": "python",
   "nbconvert_exporter": "python",
   "pygments_lexer": "ipython2",
   "version": "2.7.13"
  }
 },
 "nbformat": 4,
 "nbformat_minor": 2
}
